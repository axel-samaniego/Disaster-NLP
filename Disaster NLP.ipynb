{
 "cells": [
  {
   "cell_type": "code",
   "execution_count": 1,
   "metadata": {},
   "outputs": [],
   "source": [
    "import re\n",
    "import random\n",
    "import warnings\n",
    "import string\n",
    "\n",
    "import numpy as np\n",
    "import pandas as pd\n",
    "import seaborn as sns\n",
    "import matplotlib.pyplot as plt\n",
    "\n",
    "from nltk.tokenize import word_tokenize, RegexpTokenizer\n",
    "from nltk.corpus import stopwords\n",
    "from nltk.stem import PorterStemmer\n",
    "from sklearn.model_selection import train_test_split\n",
    "from sklearn.metrics import accuracy_score, f1_score, plot_confusion_matrix, confusion_matrix, classification_report, roc_curve,auc\n",
    "from sklearn.feature_extraction.text import TfidfVectorizer\n",
    "from sklearn.linear_model import PassiveAggressiveClassifier, LogisticRegression\n",
    "from sklearn.ensemble import RandomForestClassifier\n",
    "from tqdm.notebook import tqdm\n",
    "from nltk import WordNetLemmatizer\n",
    "\n",
    "warnings.filterwarnings('ignore')"
   ]
  },
  {
   "cell_type": "code",
   "execution_count": 2,
   "metadata": {},
   "outputs": [],
   "source": [
    "train = pd.read_csv(r'C:\\misc\\NLP Disaster\\train.csv')\n",
    "test = pd.read_csv(r'C:\\misc\\NLP Disaster\\test.csv')"
   ]
  },
  {
   "cell_type": "code",
   "execution_count": 3,
   "metadata": {},
   "outputs": [
    {
     "name": "stdout",
     "output_type": "stream",
     "text": [
      "<class 'pandas.core.frame.DataFrame'>\n",
      "RangeIndex: 7613 entries, 0 to 7612\n",
      "Data columns (total 5 columns):\n",
      " #   Column    Non-Null Count  Dtype \n",
      "---  ------    --------------  ----- \n",
      " 0   id        7613 non-null   int64 \n",
      " 1   keyword   7552 non-null   object\n",
      " 2   location  5080 non-null   object\n",
      " 3   text      7613 non-null   object\n",
      " 4   target    7613 non-null   int64 \n",
      "dtypes: int64(2), object(3)\n",
      "memory usage: 297.5+ KB\n"
     ]
    }
   ],
   "source": [
    "train.info()"
   ]
  },
  {
   "cell_type": "code",
   "execution_count": 4,
   "metadata": {},
   "outputs": [
    {
     "data": {
      "image/png": "[encoded data removed]",
      "text/plain": [
       "<Figure size 432x288 with 1 Axes>"
      ]
     },
     "metadata": {},
     "output_type": "display_data"
    }
   ],
   "source": [
    "# check distribution of target\n",
    "train['target'].value_counts().plot(kind = 'pie',title='Target Percentages',autopct='%1.2f%%')\n",
    "plt.show()"
   ]
  },
  {
   "cell_type": "code",
   "execution_count": 5,
   "metadata": {},
   "outputs": [
    {
     "data": {
      "text/plain": [
       "5787    still rioting in a couple of hours left until ...\n",
       "3984    slip sliding away - flash floods info for writ...\n",
       "5770    sweetpea's are running riot at the allotment -...\n",
       "2138    irony just died a thousand deaths! ???? http:/...\n",
       "7207    'education is the most powerful weapon which y...\n",
       "Name: text, dtype: object"
      ]
     },
     "execution_count": 5,
     "metadata": {},
     "output_type": "execute_result"
    }
   ],
   "source": [
    "# lower all text\n",
    "train['text'] = train['text'].str.lower()\n",
    "train['text'].sample(5)"
   ]
  },
  {
   "cell_type": "code",
   "execution_count": 6,
   "metadata": {},
   "outputs": [
    {
     "name": "stdout",
     "output_type": "stream",
     "text": [
      "always try bring heavy. #metal #rt http://t.co/yao1e0xngw\n",
      "@bbcmtd wholesale markets ablaze http://t.co/lhyxeohy6c\n"
     ]
    }
   ],
   "source": [
    "# Remove stopwords\n",
    "stops = set(stopwords.words('english'))\n",
    "def remove_stops(text):\n",
    "    return ' '.join([word for word in str(text).split() if word not in stops])\n",
    "train['text'] = train['text'].apply(lambda x: remove_stops(x))\n",
    "print(train['text'].iloc[32])\n",
    "print(train['text'].iloc[31])"
   ]
  },
  {
   "cell_type": "code",
   "execution_count": 7,
   "metadata": {},
   "outputs": [
    {
     "data": {
      "text/plain": [
       "'\\ndef remove_ats(text):\\n    return \\' \\'.join(re.sub(\"(@[A-Za-z0-9]+)\",\" \",text).split())\\ntrain[\\'text\\'] = train[\\'text\\'].apply(lambda x: remove_ats(x))\\nprint(train[\\'text\\'].iloc[32])\\nprint(train[\\'text\\'].iloc[31])\\n'"
      ]
     },
     "execution_count": 7,
     "metadata": {},
     "output_type": "execute_result"
    }
   ],
   "source": [
    "#Not used but remove text with @\n",
    "'''\n",
    "def remove_ats(text):\n",
    "    return ' '.join(re.sub(\"(@[A-Za-z0-9]+)\",\" \",text).split())\n",
    "train['text'] = train['text'].apply(lambda x: remove_ats(x))\n",
    "print(train['text'].iloc[32])\n",
    "print(train['text'].iloc[31])\n",
    "'''"
   ]
  },
  {
   "cell_type": "code",
   "execution_count": 8,
   "metadata": {},
   "outputs": [
    {
     "name": "stdout",
     "output_type": "stream",
     "text": [
      "always try bring heavy metal rt httptcoyao1e0xngw\n",
      "bbcmtd wholesale markets ablaze httptcolhyxeohy6c\n"
     ]
    }
   ],
   "source": [
    "# Clean punctuation\n",
    "eng_punc = string.punctuation\n",
    "def clean_punct(text):\n",
    "    trans = str.maketrans('','',eng_punc)\n",
    "    return text.translate(trans)\n",
    "train['text'] = train['text'].apply(lambda x: clean_punct(x))\n",
    "print(train['text'].iloc[32])\n",
    "print(train['text'].iloc[31])"
   ]
  },
  {
   "cell_type": "code",
   "execution_count": 9,
   "metadata": {},
   "outputs": [
    {
     "name": "stdout",
     "output_type": "stream",
     "text": [
      "always try bring heavy metal rt http\n",
      "bbcmtd wholesale markets ablaze http\n"
     ]
    }
   ],
   "source": [
    "# chop url so http can be used as text\n",
    "def chop_url(text):\n",
    "    index = text.find('http')\n",
    "    if index>0:\n",
    "        return text[:index+4]\n",
    "    else:\n",
    "        return text\n",
    "train['text'] = train['text'].apply(lambda x: chop_url(x))\n",
    "print(train['text'].iloc[32])\n",
    "print(train['text'].iloc[31])"
   ]
  },
  {
   "cell_type": "code",
   "execution_count": 10,
   "metadata": {},
   "outputs": [
    {
     "name": "stdout",
     "output_type": "stream",
     "text": [
      "always try bring heavy metal rt http\n",
      "bbcmtd wholesale markets ablaze http\n"
     ]
    }
   ],
   "source": [
    "# remove numbers\n",
    "def clean_nums(text):\n",
    "    return re.sub('[0-9]+','',text)\n",
    "train['text'] = train['text'].apply(lambda x: clean_nums(x))\n",
    "print(train['text'].iloc[32])\n",
    "print(train['text'].iloc[31])"
   ]
  },
  {
   "cell_type": "code",
   "execution_count": 11,
   "metadata": {},
   "outputs": [
    {
     "name": "stdout",
     "output_type": "stream",
     "text": [
      "['always', 'try', 'bring', 'heavy', 'metal', 'rt', 'http']\n",
      "['bbcmtd', 'wholesale', 'markets', 'ablaze', 'http']\n"
     ]
    }
   ],
   "source": [
    "# tokenize\n",
    "train['text'] = train['text'].apply(lambda x: word_tokenize(x))\n",
    "print(train['text'].iloc[32])\n",
    "print(train['text'].iloc[31])"
   ]
  },
  {
   "cell_type": "code",
   "execution_count": 12,
   "metadata": {},
   "outputs": [
    {
     "data": {
      "text/plain": [
       "\"\\nps = PorterStemmer(mode='ORIGINAL_ALGORITHM')\\ndef stem(text):\\n    text = [ps.stem(word) for word in text]\\n    return text\\ntrain['text'] = train['text'].apply(lambda x: stem(x))\\ntrain['text'].head()\\n\""
      ]
     },
     "execution_count": 12,
     "metadata": {},
     "output_type": "execute_result"
    }
   ],
   "source": [
    "# not used, but port stemmmer \n",
    "'''\n",
    "ps = PorterStemmer(mode='ORIGINAL_ALGORITHM')\n",
    "def stem(text):\n",
    "    text = [ps.stem(word) for word in text]\n",
    "    return text\n",
    "train['text'] = train['text'].apply(lambda x: stem(x))\n",
    "train['text'].head()\n",
    "'''"
   ]
  },
  {
   "cell_type": "code",
   "execution_count": 13,
   "metadata": {},
   "outputs": [
    {
     "name": "stdout",
     "output_type": "stream",
     "text": [
      "['always', 'try', 'bring', 'heavy', 'metal', 'rt', 'http']\n",
      "['bbcmtd', 'wholesale', 'market', 'ablaze', 'http']\n"
     ]
    }
   ],
   "source": [
    "# Lemmatize words\n",
    "lm = WordNetLemmatizer()\n",
    "def lemmatize(text):\n",
    "    text = [lm.lemmatize(word) for word in text]\n",
    "    return text\n",
    "train['text'] = train['text'].apply(lambda x: lemmatize(x))\n",
    "print(train['text'].iloc[32])\n",
    "print(train['text'].iloc[31])\n"
   ]
  },
  {
   "cell_type": "code",
   "execution_count": 14,
   "metadata": {},
   "outputs": [],
   "source": [
    "# Prepare data to be fit through model\n",
    "train['text'] = train['text'].astype(str)\n",
    "X = train['text'].values\n",
    "y = train['target'].values"
   ]
  },
  {
   "cell_type": "code",
   "execution_count": 15,
   "metadata": {},
   "outputs": [],
   "source": [
    "# Split and into train and test sets\n",
    "X_train, X_test, y_train, y_test = train_test_split(X,y,test_size = 0.2)"
   ]
  },
  {
   "cell_type": "code",
   "execution_count": 16,
   "metadata": {},
   "outputs": [
    {
     "name": "stdout",
     "output_type": "stream",
     "text": [
      "No, of feature words:  52373\n"
     ]
    }
   ],
   "source": [
    "# Use TFIDF for model\n",
    "vectorizer = TfidfVectorizer(ngram_range=(1,2))\n",
    "vectorizer.fit(X_train)\n",
    "print('No, of feature words: ', len(vectorizer.get_feature_names()))"
   ]
  },
  {
   "cell_type": "code",
   "execution_count": 17,
   "metadata": {},
   "outputs": [],
   "source": [
    "# Transform data using vectorizer\n",
    "X_train = vectorizer.transform(X_train)\n",
    "X_test = vectorizer.transform(X_test)"
   ]
  },
  {
   "cell_type": "code",
   "execution_count": 18,
   "metadata": {},
   "outputs": [],
   "source": [
    "#Function to evaluate model\n",
    "def model_eval(model):\n",
    "    model.fit(X_train,y_train)\n",
    "    y_pred = model.predict(X_test)\n",
    "    print ('Training accuracy: %.4f' % model.score(X_train, y_train))\n",
    "    print ('Training f-1 score: %.4f' % f1_score(y_train, model.predict(X_train)))\n",
    "    print ('Test accuracy: %.4f' % model.score(X_test, y_test))\n",
    "    print ('Test f-1 score: %.4f' % f1_score(y_test, y_pred))\n",
    "    print(classification_report(y_test,y_pred))\n",
    "    cf_matrix = confusion_matrix(y_test,y_pred)\n",
    "    categories = ['Not Disaster','Disaster']\n",
    "    group_names = ['True Neg','False Pos', 'False Neg','True Pos']\n",
    "    group_percentages = ['{0:.2%}'.format(value) for value in cf_matrix.flatten() / np.sum(cf_matrix)]\n",
    "    labels = [f'{v1}n{v2}' for v1, v2 in zip(group_names,group_percentages)]\n",
    "    labels = np.asarray(labels).reshape(2,2)\n",
    "    sns.heatmap(cf_matrix, annot = labels, cmap = 'Blues',fmt = '',\n",
    "    xticklabels = categories, yticklabels = categories)\n",
    "    plt.xlabel(\"Predicted values\", fontdict = {'size':14}, labelpad = 10)\n",
    "    plt.ylabel(\"Actual values\" , fontdict = {'size':14}, labelpad = 10)\n",
    "    plt.title (\"Confusion Matrix\", fontdict = {'size':18}, pad = 20)"
   ]
  },
  {
   "cell_type": "code",
   "execution_count": 19,
   "metadata": {},
   "outputs": [
    {
     "name": "stdout",
     "output_type": "stream",
     "text": [
      "Training accuracy: 0.9021\n",
      "Training f-1 score: 0.8743\n",
      "Test accuracy: 0.8011\n",
      "Test f-1 score: 0.7562\n",
      "              precision    recall  f1-score   support\n",
      "\n",
      "           0       0.79      0.87      0.83       859\n",
      "           1       0.81      0.71      0.76       664\n",
      "\n",
      "    accuracy                           0.80      1523\n",
      "   macro avg       0.80      0.79      0.79      1523\n",
      "weighted avg       0.80      0.80      0.80      1523\n",
      "\n"
     ]
    },
    {
     "data": {
      "image/png": "[encoded data removed]",
      "text/plain": [
       "<Figure size 432x288 with 2 Axes>"
      ]
     },
     "metadata": {
      "needs_background": "light"
     },
     "output_type": "display_data"
    },
    {
     "data": {
      "image/png": "[encoded data removed]",
      "text/plain": [
       "<Figure size 432x288 with 1 Axes>"
      ]
     },
     "metadata": {
      "needs_background": "light"
     },
     "output_type": "display_data"
    }
   ],
   "source": [
    "# Logistic Regression model validation\n",
    "lr = LogisticRegression(max_iter = 100)\n",
    "model_eval(lr)\n",
    "y_pred = lr.predict(X_test)\n",
    "fpr, tpr, thresholds = roc_curve(y_test, y_pred)\n",
    "roc_auc = auc(fpr, tpr)\n",
    "plt.figure()\n",
    "plt.plot(fpr, tpr, color='darkorange', lw=1, label='ROC curve (area = %0.2f)' % roc_auc)\n",
    "plt.xlim([0.0, 1.0])\n",
    "plt.ylim([0.0, 1.05])\n",
    "plt.xlabel('False Positive Rate')\n",
    "plt.ylabel('True Positive Rate')\n",
    "plt.title('ROC CURVE')\n",
    "plt.legend(loc=\"lower right\")\n",
    "plt.show()"
   ]
  },
  {
   "cell_type": "code",
   "execution_count": 20,
   "metadata": {},
   "outputs": [
    {
     "name": "stdout",
     "output_type": "stream",
     "text": [
      "Training accuracy: 0.9824\n",
      "Training f-1 score: 0.9795\n",
      "Test accuracy: 0.7866\n",
      "Test f-1 score: 0.7558\n",
      "              precision    recall  f1-score   support\n",
      "\n",
      "           0       0.81      0.81      0.81       859\n",
      "           1       0.75      0.76      0.76       664\n",
      "\n",
      "    accuracy                           0.79      1523\n",
      "   macro avg       0.78      0.78      0.78      1523\n",
      "weighted avg       0.79      0.79      0.79      1523\n",
      "\n"
     ]
    },
    {
     "data": {
      "image/png": "[encoded data removed]",
      "text/plain": [
       "<Figure size 432x288 with 2 Axes>"
      ]
     },
     "metadata": {
      "needs_background": "light"
     },
     "output_type": "display_data"
    },
    {
     "data": {
      "image/png": "[encoded data removed]",
      "text/plain": [
       "<Figure size 432x288 with 1 Axes>"
      ]
     },
     "metadata": {
      "needs_background": "light"
     },
     "output_type": "display_data"
    }
   ],
   "source": [
    "# Passive Aggressive Classifier validation\n",
    "pac = PassiveAggressiveClassifier(max_iter=1000, loss='squared_hinge')\n",
    "model_eval(pac)\n",
    "y_pred = lr.predict(X_test)\n",
    "fpr, tpr, thresholds = roc_curve(y_test, y_pred)\n",
    "roc_auc = auc(fpr, tpr)\n",
    "plt.figure()\n",
    "plt.plot(fpr, tpr, color='darkorange', lw=1, label='ROC curve (area = %0.2f)' % roc_auc)\n",
    "plt.xlim([0.0, 1.0])\n",
    "plt.ylim([0.0, 1.05])\n",
    "plt.xlabel('False Positive Rate')\n",
    "plt.ylabel('True Positive Rate')\n",
    "plt.title('ROC CURVE')\n",
    "plt.legend(loc=\"lower right\")\n",
    "plt.show()"
   ]
  },
  {
   "cell_type": "markdown",
   "metadata": {},
   "source": [
    "## Deciding to use Passive Aggtessive Classifier since it would be most useful in a stream of tweets "
   ]
  },
  {
   "cell_type": "code",
   "execution_count": 21,
   "metadata": {},
   "outputs": [
    {
     "data": {
      "text/plain": [
       "PassiveAggressiveClassifier(loss='squared_hinge')"
      ]
     },
     "execution_count": 21,
     "metadata": {},
     "output_type": "execute_result"
    }
   ],
   "source": [
    "# Fit model on all data\n",
    "X = vectorizer.fit_transform(X)\n",
    "pac.fit(X,y)"
   ]
  },
  {
   "cell_type": "code",
   "execution_count": 22,
   "metadata": {},
   "outputs": [],
   "source": [
    "# Clean test data\n",
    "def clean_test(df):\n",
    "    df['text'] = df['text'].apply(lambda x: remove_stops(x))\n",
    "    df['text'] = df['text'].apply(lambda x: clean_punct(x))\n",
    "    df['text'] = df['text'].apply(lambda x: chop_url(x))\n",
    "    df['text'] = df['text'].apply(lambda x: clean_nums(x))\n",
    "    df['text'] = df['text'].apply(lambda x: word_tokenize(x))\n",
    "    df['text'] = df['text'].apply(lambda x: lemmatize(x))\n",
    "    return df\n",
    "test = clean_test(test)"
   ]
  },
  {
   "cell_type": "code",
   "execution_count": 23,
   "metadata": {},
   "outputs": [],
   "source": [
    "# prep test data for model\n",
    "test.head()\n",
    "X_final_test = test['text'].astype(str).values\n",
    "X_final_test = vectorizer.transform(X_final_test)"
   ]
  },
  {
   "cell_type": "code",
   "execution_count": 24,
   "metadata": {},
   "outputs": [],
   "source": [
    "# make predictions \n",
    "test_pred = pac.predict(X_final_test)"
   ]
  },
  {
   "cell_type": "code",
   "execution_count": 25,
   "metadata": {},
   "outputs": [
    {
     "data": {
      "text/html": [
       "<div>\n",
       "<style scoped>\n",
       "    .dataframe tbody tr th:only-of-type {\n",
       "        vertical-align: middle;\n",
       "    }\n",
       "\n",
       "    .dataframe tbody tr th {\n",
       "        vertical-align: top;\n",
       "    }\n",
       "\n",
       "    .dataframe thead th {\n",
       "        text-align: right;\n",
       "    }\n",
       "</style>\n",
       "<table border=\"1\" class=\"dataframe\">\n",
       "  <thead>\n",
       "    <tr style=\"text-align: right;\">\n",
       "      <th></th>\n",
       "      <th>id</th>\n",
       "      <th>target</th>\n",
       "    </tr>\n",
       "  </thead>\n",
       "  <tbody>\n",
       "    <tr>\n",
       "      <th>0</th>\n",
       "      <td>0</td>\n",
       "      <td>1</td>\n",
       "    </tr>\n",
       "    <tr>\n",
       "      <th>1</th>\n",
       "      <td>2</td>\n",
       "      <td>1</td>\n",
       "    </tr>\n",
       "    <tr>\n",
       "      <th>2</th>\n",
       "      <td>3</td>\n",
       "      <td>1</td>\n",
       "    </tr>\n",
       "    <tr>\n",
       "      <th>3</th>\n",
       "      <td>9</td>\n",
       "      <td>1</td>\n",
       "    </tr>\n",
       "    <tr>\n",
       "      <th>4</th>\n",
       "      <td>11</td>\n",
       "      <td>1</td>\n",
       "    </tr>\n",
       "  </tbody>\n",
       "</table>\n",
       "</div>"
      ],
      "text/plain": [
       "   id  target\n",
       "0   0       1\n",
       "1   2       1\n",
       "2   3       1\n",
       "3   9       1\n",
       "4  11       1"
      ]
     },
     "execution_count": 25,
     "metadata": {},
     "output_type": "execute_result"
    }
   ],
   "source": [
    "test_pred = pd.Series(data=test_pred,name='target')\n",
    "return_df = pd.concat([test['id'],test_pred],axis=1)\n",
    "return_df.head()"
   ]
  },
  {
   "cell_type": "code",
   "execution_count": 26,
   "metadata": {},
   "outputs": [],
   "source": [
    "return_df.to_csv(r'C:\\misc\\NLP Disaster\\submission.csv',index=False)"
   ]
  },
  {
   "cell_type": "markdown",
   "metadata": {},
   "source": [
    "## Let's try it with Logistic Regression too"
   ]
  },
  {
   "cell_type": "code",
   "execution_count": 27,
   "metadata": {},
   "outputs": [],
   "source": [
    "lr.fit(X,y)\n",
    "test_pred_lr = lr.predict(X_final_test)\n",
    "test_pred_lr = pd.Series(data=test_pred_lr,name='target')\n",
    "return_df_lr = pd.concat([test['id'],test_pred],axis=1)\n",
    "return_df_lr.to_csv(r'C:\\misc\\NLP Disaster\\submission_lr.csv',index=False)"
   ]
  },
  {
   "cell_type": "markdown",
   "metadata": {},
   "source": [
    "# Kaggle Results\n",
    "### Passive Aggressive Classifier: 0.78424\n",
    "### Logistic Regression: 0.78823"
   ]
  },
  {
   "cell_type": "code",
   "execution_count": null,
   "metadata": {},
   "outputs": [],
   "source": []
  }
 ],
 "metadata": {
  "kernelspec": {
   "display_name": "Python 3",
   "language": "python",
   "name": "python3"
  },
  "language_info": {
   "codemirror_mode": {
    "name": "ipython",
    "version": 3
   },
   "file_extension": ".py",
   "mimetype": "text/x-python",
   "name": "python",
   "nbconvert_exporter": "python",
   "pygments_lexer": "ipython3",
   "version": "3.8.5"
  }
 },
 "nbformat": 4,
 "nbformat_minor": 4
}
